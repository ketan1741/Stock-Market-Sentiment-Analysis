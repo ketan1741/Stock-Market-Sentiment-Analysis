{
 "cells": [
  {
   "cell_type": "markdown",
   "metadata": {},
   "source": [
    "Predicting the Stock Market Status of a Company using Vedar Lexicon for the stock market."
   ]
  },
  {
   "cell_type": "code",
   "execution_count": 1,
   "metadata": {},
   "outputs": [],
   "source": [
    "#importing libraries\n",
    "import requests\n",
    "import re\n",
    "from bs4 import BeautifulSoup\n",
    "import pandas as pd\n",
    "from nltk.sentiment.vader import SentimentIntensityAnalyzer\n",
    "import nltk\n",
    "import warnings\n",
    "from nltk.corpus import stopwords\n",
    "from nltk.stem.porter import PorterStemmer\n",
    "warnings.filterwarnings('ignore')\n",
    "import matplotlib.pyplot as plt \n",
    "# nltk.download('vader_lexicon')\n",
    "import csv"
   ]
  },
  {
   "cell_type": "code",
   "execution_count": null,
   "metadata": {},
   "outputs": [],
   "source": [
    "#Creating the Lexicon for stock Market\n",
    "sia = SentimentIntensityAnalyzer()\n",
    "stock_lex = pd.read_csv('lexicon_data/stock_lex.csv')\n",
    "stock_lex['sentiment'] = (stock_lex['Aff_Score'] + stock_lex['Neg_Score'])/2\n",
    "stock_lex = dict(zip(stock_lex.Item, stock_lex.sentiment))\n",
    "stock_lex = {k:v for k,v in stock_lex.items() if len(k.split(' '))==1}\n",
    "stock_lex_scaled = {}\n",
    "for k, v in stock_lex.items():\n",
    "    if v > 0:\n",
    "        stock_lex_scaled[k] = v / max(stock_lex.values()) * 4\n",
    "    else:\n",
    "        stock_lex_scaled[k] = v / min(stock_lex.values()) * -4\n",
    "\n",
    "positive = []\n",
    "with open('lexicon_data/lm_positive.csv', 'r') as f:\n",
    "     reader = csv.reader(f)\n",
    "     for row in reader:\n",
    "         positive.append(row[0].strip())\n",
    "    \n",
    "negative = []\n",
    "with open('lexicon_data/lm_negative.csv', 'r') as f:\n",
    "     reader = csv.reader(f)\n",
    "     for row in reader:\n",
    "         entry = row[0].strip().split(\" \")\n",
    "         if len(entry) > 1:\n",
    "             negative.extend(entry)\n",
    "         else:\n",
    "             negative.append(entry[0])\n",
    "\n",
    "final_lex = {}\n",
    "final_lex.update({word:2.0 for word in positive})\n",
    "final_lex.update({word:-2.0 for word in negative})\n",
    "final_lex.update(stock_lex_scaled)\n",
    "final_lex.update(sia.lexicon)\n",
    "sia.lexicon = final_lex"
   ]
  },
  {
   "cell_type": "markdown",
   "metadata": {},
   "source": [
    "The 50 Company Names and its correspoding Link are stored in a DataFrame by reading it from the Excel Sheet provided.\n",
    "The news articles are scrapped from the links provided. The corresponding dates of the news articles are scrapped and stored in a list.\n",
    "The words in the article are compared with the lexicon of the stock market and a score of +2 is given whenever a positive word is detected in the article and a score of -2 for the negative words and a range of scores from -1 to 1 were given to the neutral words.\n",
    "The overall sentiment score for the particular day was evaluated and stored in a list.\n",
    "\n",
    "\n",
    "Note: Change the directories of the csv files if needed."
   ]
  },
  {
   "cell_type": "code",
   "execution_count": null,
   "metadata": {},
   "outputs": [],
   "source": [
    "data=pd.read_csv('dataset_for_company\\company_dataset.csv','r')\n",
    "links=data.iloc[:,1]\n",
    "companies=data.iloc[:,0]\n",
    "headlines=[]\n",
    "for i in range(0,len(links)):\n",
    "    page = requests.get(links[i])\n",
    "    soup = BeautifulSoup(page.text, 'html.parser')\n",
    "    about=soup.findAll('div',class_=\"MT15 PT10 PB10\")\n",
    "    about=str(about)\n",
    "    a=re.findall('<strong>.*</strong>',about)\n",
    "    for j in range(0,len(a)):\n",
    "        a[j]=a[j][8:len(a[j])-9]\n",
    "    headlines.append(a)\n",
    "\n",
    "dates=[]\n",
    "for i in range(0,len(links)):\n",
    "    page = requests.get(links[i])\n",
    "    soup = BeautifulSoup(page.text, 'html.parser')\n",
    "    about=soup.findAll('p',class_=\"PT3 a_10dgry\")\n",
    "    about=str(about)\n",
    "    a_d=re.findall(\"[0-9][0-9] [A-Z][a-z][a-z] 2019\",about)\n",
    "    dates.append(a_d)\n",
    "\n",
    "\n",
    "words=list(sia.lexicon)\n",
    "for i in range(0,len(words)):\n",
    "    words[i]=words[i].lower()\n",
    "weights=list(sia.lexicon.values())\n",
    "sent_score=[[]]\n",
    "sc=[]\n",
    "ps=PorterStemmer()\n",
    "for k in range(0,len(headlines)):\n",
    "    score=0\n",
    "    for k1 in range(0,len(headlines[k])):\n",
    "        review = headlines[k][k1]\n",
    "        review = review.lower()\n",
    "        review = review.split()\n",
    "        review=[ps.stem(word) for word in review if not word in stopwords.words('english')]\n",
    "        for i in range(0,len(words)):\n",
    "            for j in range(0,len(review)):\n",
    "                if(review[j]==words[i]):\n",
    "                    score=score+weights[i]\n",
    "        sc.append(score)\n",
    "    sent_score[0].append(sc)\n",
    "    sc=[]"
   ]
  },
  {
   "cell_type": "markdown",
   "metadata": {},
   "source": [
    "A scatter plot example of the news data and the sentiment scores of 2 companies are plotted.\n",
    "A score of more than +6 in the market is considered as a positive outcome and the performance of the company is good enough in the stock market. \n",
    "An overall score of more than 50 is considered do be a positive output and the company's current position in the market is good and stable."
   ]
  },
  {
   "cell_type": "code",
   "execution_count": null,
   "metadata": {},
   "outputs": [],
   "source": [
    "plt.figure(1)\n",
    "plt.scatter(dates[1],sent_score[0][1])\n",
    "plt.title(companies[1]+\"\\n\"+\"Overall sentiment score as of today=  \"+str(sum(sent_score[0][1])))\n",
    "plt.show()\n",
    "\n",
    "plt.figure(2)\n",
    "plt.scatter(dates[2],sent_score[0][2])\n",
    "plt.title(companies[2]+\"\\n\"+\"Overall sentiment score as of today=  \"+str(sum(sent_score[0][2])))\n",
    "plt.show()"
   ]
  }
 ],
 "metadata": {
  "kernelspec": {
   "display_name": "Python 3",
   "language": "python",
   "name": "python3"
  },
  "language_info": {
   "codemirror_mode": {
    "name": "ipython",
    "version": 3
   },
   "file_extension": ".py",
   "mimetype": "text/x-python",
   "name": "python",
   "nbconvert_exporter": "python",
   "pygments_lexer": "ipython3",
   "version": "3.7.3"
  }
 },
 "nbformat": 4,
 "nbformat_minor": 2
}
